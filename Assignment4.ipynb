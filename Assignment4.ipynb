{
 "cells": [
  {
   "cell_type": "code",
   "execution_count": null,
   "metadata": {},
   "outputs": [],
   "source": [
    "import numpy as np\n",
    "\n",
    "\n",
    "rng = np.random.default_rng()\n",
    "\n",
    "\n",
    "def experiment(samples, n ):\n",
    "    X = np.zeros(n)\n",
    "    X[0] = 1\n",
    "    A = 0\n",
    "    for j in range(samples+1):\n",
    "        for i in range(1, len(X)):\n",
    "            X[i] = rng.integers(1,3) + X[i-1]\n",
    "        for k in range(len(X)): \n",
    "            if X[k]== n:\n",
    "                A +=1 #calculates what proportion of the samples, n is landed on.\n",
    "    return A/samples\n",
    "\n",
    "\n",
    "\n",
    "experiment(int(1e5),25)"
   ]
  },
  {
   "cell_type": "code",
   "execution_count": null,
   "metadata": {},
   "outputs": [],
   "source": []
  }
 ],
 "metadata": {
  "kernelspec": {
   "display_name": "Python 3",
   "language": "python",
   "name": "python3"
  },
  "language_info": {
   "codemirror_mode": {
    "name": "ipython",
    "version": 3
   },
   "file_extension": ".py",
   "mimetype": "text/x-python",
   "name": "python",
   "nbconvert_exporter": "python",
   "pygments_lexer": "ipython3",
   "version": "3.8.5"
  }
 },
 "nbformat": 4,
 "nbformat_minor": 4
}
